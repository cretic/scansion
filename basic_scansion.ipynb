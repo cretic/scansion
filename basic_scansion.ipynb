{
  "nbformat": 4,
  "nbformat_minor": 0,
  "metadata": {
    "colab": {
      "provenance": [],
      "include_colab_link": true
    },
    "kernelspec": {
      "name": "python3",
      "display_name": "Python 3"
    },
    "language_info": {
      "name": "python"
    }
  },
  "cells": [
    {
      "cell_type": "markdown",
      "metadata": {
        "id": "view-in-github",
        "colab_type": "text"
      },
      "source": [
        "<a href=\"https://colab.research.google.com/github/cretic/scansion/blob/main/basic_scansion.ipynb\" target=\"_parent\"><img src=\"https://colab.research.google.com/assets/colab-badge.svg\" alt=\"Open In Colab\"/></a>"
      ]
    },
    {
      "cell_type": "code",
      "execution_count": null,
      "metadata": {
        "id": "4q4Wktya-r91"
      },
      "outputs": [],
      "source": [
        "## run this cell to install prosodic, then restart runtime as requested\n",
        "!apt-get install espeak libespeak1 libespeak-dev\n",
        "!pip install -U prosodic"
      ]
    },
    {
      "cell_type": "code",
      "source": [
        "##run this to import prosodic and avoid excessive logging\n",
        "\n",
        "import prosodic\n",
        "prosodic.logger.setLevel('ERROR')\n"
      ],
      "metadata": {
        "id": "O8Zp7696---g"
      },
      "execution_count": null,
      "outputs": []
    },
    {
      "cell_type": "markdown",
      "source": [
        "The cells below give you three options for turning a line, set of lines, or .txt file of lines into prosodic.Text to then be parsed later. set the meter first. changing the meter will not automatically change parses unless you change the inputted text (this is a known bug)"
      ],
      "metadata": {
        "id": "51_1pLnh1TH9"
      }
    },
    {
      "cell_type": "code",
      "source": [
        "# these are the meter parameters.\n",
        "# if you want to play around with different rules and values, do that and make sure to change the inputs and rerun\n",
        "\n",
        "constraints={\n",
        "    'w_peak':3.0,\n",
        "    'w_stress':1.0,\n",
        "    's_unstress':1.0,\n",
        "    'unres_across':1.0,\n",
        "    'unres_within':1.0,\n",
        "    'pentameter':20.0,\n",
        "}\n",
        "meter = prosodic.Meter(\n",
        "    constraints=constraints,\n",
        "    resolve_optionality=True,\n",
        "    max_s=1,\n",
        "    max_w=2,\n",
        ")\n",
        "\n",
        "meter.to_dict()"
      ],
      "metadata": {
        "colab": {
          "base_uri": "https://localhost:8080/"
        },
        "id": "ndyrWxOKAa5p",
        "outputId": "ccfe0b0d-ff8d-49a5-d160-4f7b048a4063"
      },
      "execution_count": null,
      "outputs": [
        {
          "output_type": "execute_result",
          "data": {
            "text/plain": [
              "{'Meter': {'key': 'Meter(b075b237503b65e53a9a133714151b2e)',\n",
              "  'constraints': {'w_peak': 3.0,\n",
              "   'w_stress': 1.0,\n",
              "   's_unstress': 1.0,\n",
              "   'unres_across': 1.0,\n",
              "   'unres_within': 1.0,\n",
              "   'pentameter': 20.0},\n",
              "  'max_s': 1,\n",
              "  'max_w': 2,\n",
              "  'resolve_optionality': True,\n",
              "  'exhaustive': False,\n",
              "  'parse_unit': 'linepart'}}"
            ]
          },
          "metadata": {},
          "execution_count": 2
        }
      ]
    },
    {
      "cell_type": "code",
      "source": [
        "## parse by string. this cell turns one line into a prosodic Text object that can be parsed\n",
        "\n",
        "singleline = prosodic.Text(\"\"\"\n",
        "a chatbot tried to write in perfect verse\n",
        "\"\"\")"
      ],
      "metadata": {
        "id": "tlz4qqD2XIfa"
      },
      "execution_count": null,
      "outputs": []
    },
    {
      "cell_type": "code",
      "source": [
        "# if you wish to run multiple lines, copy then in here\n",
        "\n",
        "yourlines = prosodic.Text(\"\"\"\n",
        "the chatbot tried to write in perfect verse\n",
        "but it didn't do a good job. it was worse.\n",
        "\"\"\")\n"
      ],
      "metadata": {
        "id": "KFq0YJmVRLC3"
      },
      "execution_count": null,
      "outputs": []
    },
    {
      "cell_type": "code",
      "source": [
        "## if you wish to use a .txt. replace with your filepath\n",
        "\n",
        "txtlines = prosodic.Text(fn='/content/sample_data/studentlines.txt')"
      ],
      "metadata": {
        "id": "LkIShn7_OKHU"
      },
      "execution_count": null,
      "outputs": []
    },
    {
      "cell_type": "markdown",
      "source": [
        "Now we parse. Set meter constraints first\n"
      ],
      "metadata": {
        "id": "vkqUTI4a1m-R"
      }
    },
    {
      "cell_type": "code",
      "source": [
        "## parse here. note you'll need to choose singleline, yourlines, or txtlines by un-commented as needed\n",
        "\n",
        "#parse = singleline.parse()\n",
        "\n",
        "\n",
        "#parse = yourlines.parse(meter=meter)\n",
        "\n",
        "parse = txtlines.parse()\n",
        "\n",
        "\n",
        "#parse = line.parse()\n",
        "\n",
        "df = parse.stats()\n",
        "\n",
        "df"
      ],
      "metadata": {
        "id": "q8vlFeka1xMt"
      },
      "execution_count": null,
      "outputs": []
    },
    {
      "cell_type": "code",
      "source": [
        "##this cell will let you select only certain columns from stats. I recommend starting with parse_score,  parse_num_viols, and parse_ambig\n",
        "## add in other things if they seem relevant\n",
        "## you should use colab's built in data table viewer -- there's a button when you scroll all the way to the right.\n",
        "\n",
        "# Show all columns with their index\n",
        "for i, col in enumerate(df.columns):\n",
        "  print(f\"{i}: {col}\")\n",
        "\n",
        "# Get user input for column selection\n",
        "selected_cols_indices = input(\"Enter the numbers of the columns you want to include (comma-separated): \")\n",
        "\n",
        "# Convert input to a list of integers\n",
        "selected_cols_indices = [int(x) for x in selected_cols_indices.split(',')]\n",
        "\n",
        "# Create a new DataFrame with selected columns\n",
        "new_df = df.iloc[:, selected_cols_indices]\n",
        "\n",
        "# Print the new DataFrame\n",
        "new_df"
      ],
      "metadata": {
        "id": "YomYieId5rQ9"
      },
      "execution_count": null,
      "outputs": []
    },
    {
      "cell_type": "code",
      "source": [
        "## this is a pretty display for a few lines. edit if you are inputing oneline or a txt file\n",
        "\n",
        "for line in txtlines.lines:\n",
        "  line.parse()\n",
        "  display(line.best_parse)"
      ],
      "metadata": {
        "id": "f2ILp_Tf3dVY"
      },
      "execution_count": null,
      "outputs": []
    },
    {
      "cell_type": "code",
      "source": [
        "## function to print out a pretty version for just one line #\n",
        "\n",
        "def print_best_parse_for_line(line_number):\n",
        "  \"\"\"Prints the best parse for a given line number from txtlines.\n",
        "\n",
        "  Args:\n",
        "      line_number: The line number (starting from 0) to print the parse for.\n",
        "  \"\"\"\n",
        "  try:\n",
        "    display(txtlines.lines[line_number-1].best_parse)\n",
        "  except IndexError:\n",
        "    print(f\"Error: Line number {line_number} is out of range.\")\n",
        "\n",
        "\n",
        "# Example usage: Print the best parse for line 18\n",
        "print_best_parse_for_line(18)"
      ],
      "metadata": {
        "colab": {
          "base_uri": "https://localhost:8080/",
          "height": 94
        },
        "id": "73XmnBCO-A4w",
        "outputId": "4b49df61-7d4b-42ab-d773-4036991af52e"
      },
      "execution_count": null,
      "outputs": [
        {
          "output_type": "display_data",
          "data": {
            "text/plain": [
              "Parse(num=1, txt='our ME mo RIES tell MORE a BOUT.NOW than THEN')"
            ],
            "text/html": [
              "<ol class=\"parselist\"><li><style>\n",
              "\n",
              ".miniquote { margin-left:0em;margin-top:.5em;font-family:monospace; font-size:.8em;}\n",
              ".parse { line-height:2.5em; letter-spacing:.1em;}\n",
              ".parselist { list-style-type: none; }\n",
              ".parselist li { padding-left:2em;}\n",
              ".parselist li:nth-child(5n) { list-style-type: decimal; }\n",
              ".parse { text-decoration-offset:5px; }\n",
              "\n",
              ".viol_y { text-decoration-color:#f43838; color: #f43838; }\n",
              ".mtr_s { text-decoration: overline; }\n",
              ".str_s { font-weight:600; }\n",
              ".parselist > li:first-of-type { list-style-type: decimal; }\n",
              ".parselist > li:last-of-type { list-style-type: decimal; }\n",
              "</style><div class=\"parse\">\n",
              "<span class=\"mtr_w str_w viol_n\">Our</span> <span class=\"mtr_s str_s viol_n\">me</span><span class=\"mtr_w str_w viol_n\">mo</span><span class=\"mtr_s str_w viol_y\">ries</span> <span class=\"mtr_w str_s viol_y\">tell</span> <span class=\"mtr_s str_s viol_n\">more</span> <span class=\"mtr_w str_w viol_n\">a</span><span class=\"mtr_s str_s viol_y\">bout</span> <span class=\"mtr_s str_s viol_y\">now</span> <span class=\"mtr_w str_w viol_n\">than</span> <span class=\"mtr_s str_s viol_n\">then</span>.</div></li></ol><div class=\"miniquote\">⎿ stanza_num=1, line_num=18, linepart_num=24, sentpart_num=7, sent_num=4, rank=1, meter='-+-+-+-++-+', stress='-+--++-++-+', score=3.0, num_viols=3, ambig=19, is_bounded=0</div>"
            ]
          },
          "metadata": {}
        }
      ]
    },
    {
      "cell_type": "code",
      "source": [
        "##if you want to view all the parses for a given line.\n",
        "#Note that there may be several parses with the same score, and prosodic will only choose one to show you. There is probably a way to see all the equally good parses.\n",
        "\n",
        "trickline = prosodic.Text('Our memories tell more about now than then.')\n",
        "trickline.parse()\n",
        "\n",
        "for parse in trickline.parses:\n",
        "  display(parse)\n",
        "\n"
      ],
      "metadata": {
        "id": "2GUWCEI--0vk"
      },
      "execution_count": null,
      "outputs": []
    },
    {
      "cell_type": "code",
      "source": [],
      "metadata": {
        "id": "pkOWkNc8_J8V"
      },
      "execution_count": null,
      "outputs": []
    }
  ]
}